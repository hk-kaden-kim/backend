{
 "cells": [
  {
   "cell_type": "markdown",
   "metadata": {},
   "source": [
    "- Word Error Rate\n",
    "- 2023 | BioNLP | Evaluating and Improving Automatic Speech Recognition using Severity [Link](https://aclanthology.org/2023.bionlp-1.6.pdf)\n",
    "- 2024 SeMaScore [Link](https://arxiv.org/html/2401.07506v1)"
   ]
  },
  {
   "cell_type": "markdown",
   "metadata": {},
   "source": []
  }
 ],
 "metadata": {
  "language_info": {
   "name": "python"
  }
 },
 "nbformat": 4,
 "nbformat_minor": 2
}
